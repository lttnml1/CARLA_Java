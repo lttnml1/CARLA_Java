{
 "cells": [
  {
   "cell_type": "code",
   "execution_count": 2,
   "id": "12596745",
   "metadata": {},
   "outputs": [],
   "source": [
    "import tensorflow as tf\n",
    "import numpy as np"
   ]
  },
  {
   "cell_type": "markdown",
   "id": "9f89134a",
   "metadata": {},
   "source": [
    "#Creating Tensors of rank 1-4 using tf.constant()"
   ]
  },
  {
   "cell_type": "code",
   "execution_count": 3,
   "id": "dc330451",
   "metadata": {},
   "outputs": [
    {
     "name": "stdout",
     "output_type": "stream",
     "text": [
      "tf.Tensor(4, shape=(), dtype=int32)\n"
     ]
    }
   ],
   "source": [
    "rank_0_tensor = tf.constant(4)\n",
    "print(rank_0_tensor)"
   ]
  },
  {
   "cell_type": "code",
   "execution_count": 4,
   "id": "d6844adb",
   "metadata": {},
   "outputs": [
    {
     "name": "stdout",
     "output_type": "stream",
     "text": [
      "tf.Tensor([4.  1.  3.5 6.8], shape=(4,), dtype=float32)\n"
     ]
    }
   ],
   "source": [
    "rank_1_tensor = tf.constant([4.0,1.0,3.5,6.8])\n",
    "print(rank_1_tensor)"
   ]
  },
  {
   "cell_type": "markdown",
   "id": "7686807e",
   "metadata": {},
   "source": [
    "#Specifying the datatype using the dtype= field  "
   ]
  },
  {
   "cell_type": "code",
   "execution_count": 5,
   "id": "54d77bec",
   "metadata": {},
   "outputs": [
    {
     "name": "stdout",
     "output_type": "stream",
     "text": [
      "tf.Tensor(\n",
      "[[1. 2.]\n",
      " [3. 4.]\n",
      " [5. 6.]], shape=(3, 2), dtype=float16)\n"
     ]
    }
   ],
   "source": [
    "rank_2_tensor = tf.constant([[1,2],[3,4],[5,6]], dtype=tf.float16)\n",
    "print(rank_2_tensor)"
   ]
  },
  {
   "cell_type": "markdown",
   "id": "e5bda5a8",
   "metadata": {},
   "source": [
    "#Using np.random.random to populate a rank 3 tensor"
   ]
  },
  {
   "cell_type": "code",
   "execution_count": 9,
   "id": "4c4375f2",
   "metadata": {},
   "outputs": [
    {
     "name": "stdout",
     "output_type": "stream",
     "text": [
      "tf.Tensor(\n",
      "[[[0.92216821 0.87097846 0.56096641]\n",
      "  [0.80470719 0.40944965 0.89603601]\n",
      "  [0.40867699 0.50949779 0.17229026]\n",
      "  [0.1398705  0.29532173 0.86537467]\n",
      "  [0.17499247 0.71369228 0.50167317]]\n",
      "\n",
      " [[0.9592193  0.64470832 0.08086473]\n",
      "  [0.54505095 0.58578612 0.57889797]\n",
      "  [0.57886725 0.5133261  0.73177352]\n",
      "  [0.38756539 0.77069734 0.41415247]\n",
      "  [0.25546188 0.66945154 0.53049816]]\n",
      "\n",
      " [[0.7518692  0.6205454  0.2792499 ]\n",
      "  [0.58899684 0.10740995 0.08767441]\n",
      "  [0.59764079 0.28142967 0.02329241]\n",
      "  [0.0040025  0.06892282 0.51813423]\n",
      "  [0.46446237 0.49922649 0.58263725]]\n",
      "\n",
      " [[0.9020189  0.94935864 0.37405239]\n",
      "  [0.71562125 0.34098112 0.74833061]\n",
      "  [0.57113074 0.43387721 0.83352877]\n",
      "  [0.01993856 0.42056244 0.34057565]\n",
      "  [0.34009185 0.51493807 0.57628301]]\n",
      "\n",
      " [[0.08546325 0.26802848 0.58393318]\n",
      "  [0.3339266  0.66676541 0.4245249 ]\n",
      "  [0.64724785 0.59002981 0.01238535]\n",
      "  [0.0038492  0.72024016 0.51006688]\n",
      "  [0.9178231  0.19500345 0.71863058]]], shape=(5, 5, 3), dtype=float64)\n"
     ]
    }
   ],
   "source": [
    "rank_3_tensor = tf.constant(np.random.random([5,5,3]))\n",
    "print(rank_3_tensor)"
   ]
  },
  {
   "cell_type": "markdown",
   "id": "f934bbe9",
   "metadata": {},
   "source": [
    "#Extracting the values from Tensor using numpy functions -- Both produce the same result"
   ]
  },
  {
   "cell_type": "code",
   "execution_count": 10,
   "id": "830b3097",
   "metadata": {},
   "outputs": [
    {
     "name": "stdout",
     "output_type": "stream",
     "text": [
      "[[1. 2.]\n",
      " [3. 4.]\n",
      " [5. 6.]]\n"
     ]
    }
   ],
   "source": [
    "first_method = np.array(rank_2_tensor)\n",
    "second_method = rank_2_tensor.numpy()\n",
    "print(second_method)"
   ]
  },
  {
   "cell_type": "code",
   "execution_count": 18,
   "id": "73945e60",
   "metadata": {},
   "outputs": [],
   "source": [
    "x = np.random.randint(10,size=[1,5])\n",
    "w = np.random.random([1,5])"
   ]
  },
  {
   "cell_type": "code",
   "execution_count": 22,
   "id": "28623c9f",
   "metadata": {},
   "outputs": [
    {
     "name": "stdout",
     "output_type": "stream",
     "text": [
      "(1, 5)\n",
      "[[2 4 8 7 3]]\n"
     ]
    }
   ],
   "source": [
    "print(x.shape)\n",
    "print(x)"
   ]
  },
  {
   "cell_type": "code",
   "execution_count": 23,
   "id": "e4f85fd4",
   "metadata": {},
   "outputs": [
    {
     "name": "stdout",
     "output_type": "stream",
     "text": [
      "(1, 5)\n",
      "[[0.96878501 0.52233699 0.00536806 0.06311129 0.99279296]]\n"
     ]
    }
   ],
   "source": [
    "print(w.shape)\n",
    "print(w)"
   ]
  },
  {
   "cell_type": "code",
   "execution_count": 24,
   "id": "25c43fa7",
   "metadata": {},
   "outputs": [
    {
     "name": "stdout",
     "output_type": "stream",
     "text": [
      "[[2.96878501 4.52233699 8.00536806 7.06311129 3.99279296]]\n"
     ]
    }
   ],
   "source": [
    "x_plus_w = np.add(x,w)\n",
    "print(x_plus_w)"
   ]
  },
  {
   "cell_type": "code",
   "execution_count": 25,
   "id": "c491c24d",
   "metadata": {},
   "outputs": [
    {
     "name": "stdout",
     "output_type": "stream",
     "text": [
      "[[10 20 40 35 15]]\n"
     ]
    }
   ],
   "source": [
    "const_5_times_x = np.multiply(5,x)\n",
    "print(const_5_times_x)"
   ]
  },
  {
   "cell_type": "markdown",
   "id": "22a01655",
   "metadata": {},
   "source": [
    "#w.transpose() dot x is a scalar, w dot x.transpose is a matrix"
   ]
  },
  {
   "cell_type": "code",
   "execution_count": 34,
   "id": "9a69615c",
   "metadata": {},
   "outputs": [
    {
     "data": {
      "text/plain": [
       "array([[7.49002039]])"
      ]
     },
     "execution_count": 34,
     "metadata": {},
     "output_type": "execute_result"
    }
   ],
   "source": [
    "np.inner(w,x)"
   ]
  },
  {
   "cell_type": "code",
   "execution_count": 35,
   "id": "f310eb04",
   "metadata": {},
   "outputs": [
    {
     "data": {
      "text/plain": [
       "7.490020388848349"
      ]
     },
     "execution_count": 35,
     "metadata": {},
     "output_type": "execute_result"
    }
   ],
   "source": [
    "np.vdot(w.transpose(),x)"
   ]
  },
  {
   "cell_type": "code",
   "execution_count": 42,
   "id": "76123854",
   "metadata": {},
   "outputs": [
    {
     "data": {
      "text/plain": [
       "array([[1.93757002, 3.87514003, 7.75028006, 6.78149506, 2.90635502],\n",
       "       [1.04467399, 2.08934797, 4.17869595, 3.65635895, 1.56701098],\n",
       "       [0.01073612, 0.02147225, 0.04294449, 0.03757643, 0.01610418],\n",
       "       [0.12622258, 0.25244516, 0.50489031, 0.44177902, 0.18933387],\n",
       "       [1.98558592, 3.97117184, 7.94234369, 6.94955073, 2.97837888]])"
      ]
     },
     "execution_count": 42,
     "metadata": {},
     "output_type": "execute_result"
    }
   ],
   "source": [
    "np.outer(w,x)"
   ]
  },
  {
   "cell_type": "markdown",
   "id": "eef03851",
   "metadata": {},
   "source": [
    "#Matrix Transpose"
   ]
  },
  {
   "cell_type": "code",
   "execution_count": 47,
   "id": "2b859a4a",
   "metadata": {},
   "outputs": [
    {
     "name": "stdout",
     "output_type": "stream",
     "text": [
      "[[7 2 8 1 9 3 1]\n",
      " [1 7 6 5 3 7 2]\n",
      " [6 6 4 0 2 1 4]\n",
      " [4 1 0 4 6 9 5]\n",
      " [1 4 7 6 7 2 6]]\n",
      "(5, 7)\n"
     ]
    }
   ],
   "source": [
    "A = np.random.randint(10,size=[5,7])\n",
    "print(A)\n",
    "print(A.shape)"
   ]
  },
  {
   "cell_type": "code",
   "execution_count": 48,
   "id": "4c342b38",
   "metadata": {},
   "outputs": [
    {
     "name": "stdout",
     "output_type": "stream",
     "text": [
      "[[7 1 6 4 1]\n",
      " [2 7 6 1 4]\n",
      " [8 6 4 0 7]\n",
      " [1 5 0 4 6]\n",
      " [9 3 2 6 7]\n",
      " [3 7 1 9 2]\n",
      " [1 2 4 5 6]]\n",
      "(7, 5)\n"
     ]
    }
   ],
   "source": [
    "print(A.transpose())\n",
    "print(A.transpose().shape)"
   ]
  },
  {
   "cell_type": "code",
   "execution_count": 56,
   "id": "1c50917c",
   "metadata": {},
   "outputs": [
    {
     "name": "stdout",
     "output_type": "stream",
     "text": [
      "[[1 2 3 4]\n",
      " [2 2 3 4]\n",
      " [5 1 2 1]]\n",
      "C Shape = (3, 4)\n",
      "[[ 2  1  3]\n",
      " [ 4  3  6]\n",
      " [ 6  5  9]\n",
      " [ 8  7 12]]\n",
      "D Shape = (4, 3)\n"
     ]
    }
   ],
   "source": [
    "C = np.array([[1,2,3,4],[2,2,3,4],[5,1,2,1]])\n",
    "print(C)\n",
    "print(f\"C Shape = {C.shape}\")\n",
    "D = np.array([[2,1,3],[4,3,6],[6,5,9],[8,7,12]])\n",
    "print(D)\n",
    "print(f\"D Shape = {D.shape}\")"
   ]
  },
  {
   "cell_type": "code",
   "execution_count": 57,
   "id": "8bc1a289",
   "metadata": {},
   "outputs": [
    {
     "data": {
      "text/plain": [
       "array([[60, 50, 90],\n",
       "       [62, 51, 93],\n",
       "       [34, 25, 51]])"
      ]
     },
     "execution_count": 57,
     "metadata": {},
     "output_type": "execute_result"
    }
   ],
   "source": [
    "np.dot(C,D)"
   ]
  },
  {
   "cell_type": "code",
   "execution_count": 58,
   "id": "abc23150",
   "metadata": {},
   "outputs": [
    {
     "data": {
      "text/plain": [
       "array([[19,  9, 15, 15],\n",
       "       [40, 20, 33, 34],\n",
       "       [61, 31, 51, 53],\n",
       "       [82, 42, 69, 72]])"
      ]
     },
     "execution_count": 58,
     "metadata": {},
     "output_type": "execute_result"
    }
   ],
   "source": [
    "np.dot(D,C)"
   ]
  },
  {
   "cell_type": "code",
   "execution_count": 60,
   "id": "7f47e689",
   "metadata": {},
   "outputs": [
    {
     "name": "stdout",
     "output_type": "stream",
     "text": [
      "[[1. 0. 0. 0. 0. 0. 0. 0. 0. 0.]\n",
      " [0. 1. 0. 0. 0. 0. 0. 0. 0. 0.]\n",
      " [0. 0. 1. 0. 0. 0. 0. 0. 0. 0.]\n",
      " [0. 0. 0. 1. 0. 0. 0. 0. 0. 0.]\n",
      " [0. 0. 0. 0. 1. 0. 0. 0. 0. 0.]\n",
      " [0. 0. 0. 0. 0. 1. 0. 0. 0. 0.]\n",
      " [0. 0. 0. 0. 0. 0. 1. 0. 0. 0.]\n",
      " [0. 0. 0. 0. 0. 0. 0. 1. 0. 0.]\n",
      " [0. 0. 0. 0. 0. 0. 0. 0. 1. 0.]\n",
      " [0. 0. 0. 0. 0. 0. 0. 0. 0. 1.]]\n"
     ]
    }
   ],
   "source": [
    "I = np.identity(10)\n",
    "print(I)"
   ]
  },
  {
   "cell_type": "markdown",
   "id": "8bbbeff7",
   "metadata": {},
   "source": [
    "#Systems of Equations (Ax = b)"
   ]
  },
  {
   "cell_type": "code",
   "execution_count": 61,
   "id": "28c2e3bc",
   "metadata": {},
   "outputs": [],
   "source": [
    "A = np.array([[1,2,3],[2,5,2],[6,-3,1]])\n",
    "b = [6,4,2]"
   ]
  },
  {
   "cell_type": "code",
   "execution_count": 63,
   "id": "9919cdb7",
   "metadata": {},
   "outputs": [
    {
     "name": "stdout",
     "output_type": "stream",
     "text": [
      "[0. 0. 2.]\n"
     ]
    }
   ],
   "source": [
    "x = np.linalg.solve(A,b)\n",
    "print(x)"
   ]
  },
  {
   "cell_type": "code",
   "execution_count": null,
   "id": "64ebc4c4",
   "metadata": {},
   "outputs": [],
   "source": []
  }
 ],
 "metadata": {
  "kernelspec": {
   "display_name": "Python 3",
   "language": "python",
   "name": "python3"
  },
  "language_info": {
   "codemirror_mode": {
    "name": "ipython",
    "version": 3
   },
   "file_extension": ".py",
   "mimetype": "text/x-python",
   "name": "python",
   "nbconvert_exporter": "python",
   "pygments_lexer": "ipython3",
   "version": "3.9.13"
  }
 },
 "nbformat": 4,
 "nbformat_minor": 5
}
