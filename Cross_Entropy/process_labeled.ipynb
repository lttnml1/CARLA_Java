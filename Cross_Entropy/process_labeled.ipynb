{
 "cells": [
  {
   "cell_type": "markdown",
   "metadata": {},
   "source": [
    "1) Read in all files\n",
    "2) See how many 0's, 1's\n",
    "3) Analyze file (see the average length) "
   ]
  },
  {
   "cell_type": "code",
   "execution_count": 1,
   "metadata": {},
   "outputs": [
    {
     "name": "stdout",
     "output_type": "stream",
     "text": [
      "Zeros: 38\n",
      "Ones: 37\n"
     ]
    }
   ],
   "source": [
    "import os\n",
    "\n",
    "replay_path = \"c:\\\\data\\\\label\\\\\"\n",
    "for dirName, subdirList, fileList in os.walk(replay_path):\n",
    "    zeros = [f for f in fileList if f.split(\".csv\")[0].split(\"_\",2)[2] == '0']\n",
    "    ones = [f for f in fileList if f.split(\".csv\")[0].split(\"_\",2)[2] == '1']\n",
    "print(f\"Zeros: {len(zeros)}\\nOnes: {len(ones)}\")\n",
    "    "
   ]
  },
  {
   "cell_type": "code",
   "execution_count": 2,
   "metadata": {},
   "outputs": [
    {
     "data": {
      "text/plain": [
       "count     75.000000\n",
       "mean     633.386667\n",
       "std      142.635795\n",
       "min      295.000000\n",
       "25%      544.500000\n",
       "50%      646.000000\n",
       "75%      751.000000\n",
       "max      848.000000\n",
       "dtype: float64"
      ]
     },
     "execution_count": 2,
     "metadata": {},
     "output_type": "execute_result"
    }
   ],
   "source": [
    "import pandas as pd\n",
    "\n",
    "all_files = zeros + ones\n",
    "file_lengths = []\n",
    "for f in all_files:\n",
    "    df = pd.read_csv(os.path.join(replay_path,f))\n",
    "    file_lengths.append(df.shape[0])\n",
    "pd.Series(file_lengths).describe()\n"
   ]
  },
  {
   "cell_type": "markdown",
   "metadata": {},
   "source": [
    "4) For each file, take 5 seconds before and 1 second after the event of interest (sampling every 0.5 seconds)"
   ]
  },
  {
   "cell_type": "code",
   "execution_count": 3,
   "metadata": {},
   "outputs": [
    {
     "name": "stdout",
     "output_type": "stream",
     "text": [
      "<class 'pandas.core.frame.DataFrame'>\n",
      "RangeIndex: 75 entries, 0 to 74\n",
      "Columns: 261 entries, hausdorff_distance to class\n",
      "dtypes: float64(260), object(1)\n",
      "memory usage: 153.1+ KB\n"
     ]
    }
   ],
   "source": [
    "sample_interval = 0.5\n",
    "seconds_before = 5\n",
    "seconds_after = 1\n",
    "\n",
    "all_seqs = []\n",
    "for file in all_files:\n",
    "    df = pd.read_csv(os.path.join(replay_path,file),index_col=0)\n",
    "    min_dist = df['hausdorff_distance'].min()\n",
    "    min_dist_idx = df['hausdorff_distance'].idxmin()\n",
    "    start_idx = min_dist_idx - seconds_before * (2*sample_interval/0.05)\n",
    "    stop_idx = min_dist_idx + seconds_after * (2*sample_interval/0.05)\n",
    "\n",
    "    indices_to_sample = []\n",
    "    for x in range(int(start_idx),int(stop_idx+1),int(sample_interval/0.05)): indices_to_sample.append(x)\n",
    "\n",
    "    columns_of_interest = ['hausdorff_distance','angle',\n",
    "        'ego_vel_x','ego_vel_y','ego_vel_z','ego_accel_x','ego_accel_y','ego_accel_z','ego_ang_vel_x','ego_ang_vel_y','ego_ang_vel_z',\n",
    "        'adv_vel_x','adv_vel_y','adv_vel_z','adv_accel_x','adv_accel_y','adv_accel_z','adv_ang_vel_x','adv_ang_vel_y','adv_ang_vel_z']\n",
    "    rows_of_interest = df.loc[indices_to_sample,columns_of_interest]\n",
    "    one_seq = []\n",
    "    for index, rows in rows_of_interest.iterrows():\n",
    "        for elem in rows:\n",
    "            one_seq.append(elem)\n",
    "    one_seq.append(file.split(\".csv\")[0].split(\"_\",2)[2])\n",
    "    all_seqs.append(one_seq)\n",
    "\n",
    "full_df = pd.DataFrame(all_seqs, columns=(columns_of_interest * 13 + ['class']))\n",
    "full_df.to_csv(\"c:\\\\data\\\\labeled_data.csv\",index=None)\n",
    "full_df.info()"
   ]
  },
  {
   "cell_type": "markdown",
   "metadata": {},
   "source": [
    "5) Generate Train/Test Files"
   ]
  },
  {
   "cell_type": "code",
   "execution_count": 4,
   "metadata": {},
   "outputs": [],
   "source": [
    "from sklearn.model_selection import train_test_split\n",
    "x = full_df.iloc[:,:-1]\n",
    "y = full_df.iloc[:,-1]\n",
    "x_train, x_test, y_train, y_test = train_test_split(x,y,test_size=0.33)\n",
    "train = x_train.assign(Class=y_train)\n",
    "test = x_test.assign(Class=y_test)\n",
    "train.to_csv('c:\\\\data\\\\train_file.csv',index=None)\n",
    "test.to_csv('c:\\\\data\\\\test_file.csv',index=None)\n"
   ]
  },
  {
   "cell_type": "code",
   "execution_count": 5,
   "metadata": {},
   "outputs": [
    {
     "data": {
      "text/html": [
       "<div>\n",
       "<style scoped>\n",
       "    .dataframe tbody tr th:only-of-type {\n",
       "        vertical-align: middle;\n",
       "    }\n",
       "\n",
       "    .dataframe tbody tr th {\n",
       "        vertical-align: top;\n",
       "    }\n",
       "\n",
       "    .dataframe thead th {\n",
       "        text-align: right;\n",
       "    }\n",
       "</style>\n",
       "<table border=\"1\" class=\"dataframe\">\n",
       "  <thead>\n",
       "    <tr style=\"text-align: right;\">\n",
       "      <th></th>\n",
       "      <th>hausdorff_distance</th>\n",
       "      <th>angle</th>\n",
       "      <th>ego_vel_x</th>\n",
       "      <th>ego_vel_y</th>\n",
       "      <th>ego_vel_z</th>\n",
       "      <th>ego_accel_x</th>\n",
       "      <th>ego_accel_y</th>\n",
       "      <th>ego_accel_z</th>\n",
       "      <th>ego_ang_vel_x</th>\n",
       "      <th>ego_ang_vel_y</th>\n",
       "      <th>...</th>\n",
       "      <th>ego_ang_vel_z</th>\n",
       "      <th>adv_vel_x</th>\n",
       "      <th>adv_vel_y</th>\n",
       "      <th>adv_vel_z</th>\n",
       "      <th>adv_accel_x</th>\n",
       "      <th>adv_accel_y</th>\n",
       "      <th>adv_accel_z</th>\n",
       "      <th>adv_ang_vel_x</th>\n",
       "      <th>adv_ang_vel_y</th>\n",
       "      <th>adv_ang_vel_z</th>\n",
       "    </tr>\n",
       "  </thead>\n",
       "  <tbody>\n",
       "    <tr>\n",
       "      <th>49</th>\n",
       "      <td>25.529784</td>\n",
       "      <td>-1.145073</td>\n",
       "      <td>-2.711608</td>\n",
       "      <td>0.373176</td>\n",
       "      <td>-0.012496</td>\n",
       "      <td>1.147561</td>\n",
       "      <td>-0.238007</td>\n",
       "      <td>0.008906</td>\n",
       "      <td>0.505303</td>\n",
       "      <td>0.971019</td>\n",
       "      <td>...</td>\n",
       "      <td>-5.928018</td>\n",
       "      <td>3.180271</td>\n",
       "      <td>0.027457</td>\n",
       "      <td>0.000351</td>\n",
       "      <td>-1.912751</td>\n",
       "      <td>-0.017841</td>\n",
       "      <td>0.003745</td>\n",
       "      <td>-0.057418</td>\n",
       "      <td>0.292282</td>\n",
       "      <td>-1.286626</td>\n",
       "    </tr>\n",
       "    <tr>\n",
       "      <th>61</th>\n",
       "      <td>0.635964</td>\n",
       "      <td>-151.562621</td>\n",
       "      <td>0.289962</td>\n",
       "      <td>1.558689</td>\n",
       "      <td>0.003126</td>\n",
       "      <td>0.072213</td>\n",
       "      <td>0.011597</td>\n",
       "      <td>0.002280</td>\n",
       "      <td>0.002658</td>\n",
       "      <td>0.003527</td>\n",
       "      <td>...</td>\n",
       "      <td>-0.029528</td>\n",
       "      <td>0.016301</td>\n",
       "      <td>1.648964</td>\n",
       "      <td>0.004950</td>\n",
       "      <td>0.179842</td>\n",
       "      <td>-1.639903</td>\n",
       "      <td>0.024406</td>\n",
       "      <td>0.368965</td>\n",
       "      <td>0.142480</td>\n",
       "      <td>-1.071043</td>\n",
       "    </tr>\n",
       "    <tr>\n",
       "      <th>51</th>\n",
       "      <td>22.884587</td>\n",
       "      <td>2.053052</td>\n",
       "      <td>-2.618435</td>\n",
       "      <td>0.615499</td>\n",
       "      <td>0.000161</td>\n",
       "      <td>-1.451879</td>\n",
       "      <td>0.277530</td>\n",
       "      <td>-0.002411</td>\n",
       "      <td>0.538800</td>\n",
       "      <td>-0.540214</td>\n",
       "      <td>...</td>\n",
       "      <td>-3.745650</td>\n",
       "      <td>2.986934</td>\n",
       "      <td>0.015360</td>\n",
       "      <td>0.000468</td>\n",
       "      <td>-0.003419</td>\n",
       "      <td>0.008574</td>\n",
       "      <td>0.011269</td>\n",
       "      <td>-0.074295</td>\n",
       "      <td>-0.025973</td>\n",
       "      <td>0.119991</td>\n",
       "    </tr>\n",
       "    <tr>\n",
       "      <th>24</th>\n",
       "      <td>8.526672</td>\n",
       "      <td>22.055940</td>\n",
       "      <td>-2.226957</td>\n",
       "      <td>1.315113</td>\n",
       "      <td>0.005590</td>\n",
       "      <td>0.978084</td>\n",
       "      <td>-0.730054</td>\n",
       "      <td>0.007896</td>\n",
       "      <td>0.609201</td>\n",
       "      <td>0.348161</td>\n",
       "      <td>...</td>\n",
       "      <td>-0.000042</td>\n",
       "      <td>0.121638</td>\n",
       "      <td>2.793959</td>\n",
       "      <td>0.005972</td>\n",
       "      <td>0.000319</td>\n",
       "      <td>-0.000072</td>\n",
       "      <td>-0.000033</td>\n",
       "      <td>-0.000132</td>\n",
       "      <td>0.000337</td>\n",
       "      <td>-0.212651</td>\n",
       "    </tr>\n",
       "    <tr>\n",
       "      <th>63</th>\n",
       "      <td>9.790692</td>\n",
       "      <td>-321.060574</td>\n",
       "      <td>-0.007567</td>\n",
       "      <td>-2.692872</td>\n",
       "      <td>0.000802</td>\n",
       "      <td>-0.008035</td>\n",
       "      <td>-1.553245</td>\n",
       "      <td>0.015298</td>\n",
       "      <td>0.488834</td>\n",
       "      <td>-0.072028</td>\n",
       "      <td>...</td>\n",
       "      <td>-0.521310</td>\n",
       "      <td>-1.274037</td>\n",
       "      <td>-0.009542</td>\n",
       "      <td>-0.001148</td>\n",
       "      <td>-0.308323</td>\n",
       "      <td>-0.009125</td>\n",
       "      <td>-0.001403</td>\n",
       "      <td>-0.025819</td>\n",
       "      <td>0.035490</td>\n",
       "      <td>-1.285690</td>\n",
       "    </tr>\n",
       "  </tbody>\n",
       "</table>\n",
       "<p>5 rows × 260 columns</p>\n",
       "</div>"
      ],
      "text/plain": [
       "    hausdorff_distance       angle  ego_vel_x  ego_vel_y  ego_vel_z  \\\n",
       "49           25.529784   -1.145073  -2.711608   0.373176  -0.012496   \n",
       "61            0.635964 -151.562621   0.289962   1.558689   0.003126   \n",
       "51           22.884587    2.053052  -2.618435   0.615499   0.000161   \n",
       "24            8.526672   22.055940  -2.226957   1.315113   0.005590   \n",
       "63            9.790692 -321.060574  -0.007567  -2.692872   0.000802   \n",
       "\n",
       "    ego_accel_x  ego_accel_y  ego_accel_z  ego_ang_vel_x  ego_ang_vel_y  ...  \\\n",
       "49     1.147561    -0.238007     0.008906       0.505303       0.971019  ...   \n",
       "61     0.072213     0.011597     0.002280       0.002658       0.003527  ...   \n",
       "51    -1.451879     0.277530    -0.002411       0.538800      -0.540214  ...   \n",
       "24     0.978084    -0.730054     0.007896       0.609201       0.348161  ...   \n",
       "63    -0.008035    -1.553245     0.015298       0.488834      -0.072028  ...   \n",
       "\n",
       "    ego_ang_vel_z  adv_vel_x  adv_vel_y  adv_vel_z  adv_accel_x  adv_accel_y  \\\n",
       "49      -5.928018   3.180271   0.027457   0.000351    -1.912751    -0.017841   \n",
       "61      -0.029528   0.016301   1.648964   0.004950     0.179842    -1.639903   \n",
       "51      -3.745650   2.986934   0.015360   0.000468    -0.003419     0.008574   \n",
       "24      -0.000042   0.121638   2.793959   0.005972     0.000319    -0.000072   \n",
       "63      -0.521310  -1.274037  -0.009542  -0.001148    -0.308323    -0.009125   \n",
       "\n",
       "    adv_accel_z  adv_ang_vel_x  adv_ang_vel_y  adv_ang_vel_z  \n",
       "49     0.003745      -0.057418       0.292282      -1.286626  \n",
       "61     0.024406       0.368965       0.142480      -1.071043  \n",
       "51     0.011269      -0.074295      -0.025973       0.119991  \n",
       "24    -0.000033      -0.000132       0.000337      -0.212651  \n",
       "63    -0.001403      -0.025819       0.035490      -1.285690  \n",
       "\n",
       "[5 rows x 260 columns]"
      ]
     },
     "execution_count": 5,
     "metadata": {},
     "output_type": "execute_result"
    }
   ],
   "source": [
    "x_train.head()"
   ]
  },
  {
   "cell_type": "code",
   "execution_count": 6,
   "metadata": {},
   "outputs": [
    {
     "data": {
      "text/plain": [
       "0.92"
      ]
     },
     "execution_count": 6,
     "metadata": {},
     "output_type": "execute_result"
    }
   ],
   "source": [
    "from sklearn.metrics import accuracy_score,r2_score,confusion_matrix\n",
    "from sklearn.ensemble import RandomForestClassifier\n",
    "import numpy as np\n",
    "from matplotlib import pyplot as plt\n",
    "%matplotlib inline\n",
    "\n",
    "RF = RandomForestClassifier()\n",
    "RF.fit(x_train,y_train)\n",
    "RF.score(x_test,y_test)"
   ]
  },
  {
   "cell_type": "code",
   "execution_count": 8,
   "metadata": {},
   "outputs": [
    {
     "name": "stdout",
     "output_type": "stream",
     "text": [
      "[(220, 'hausdorff_distance', 0.12800815686689362), (160, 'hausdorff_distance', 0.10587692311428917), (200, 'hausdorff_distance', 0.05349283827857041), (140, 'hausdorff_distance', 0.05118704983012105), (101, 'angle', 0.04473493033519527), (240, 'hausdorff_distance', 0.042626011128634816), (120, 'hausdorff_distance', 0.04097350271670854), (180, 'hausdorff_distance', 0.03411465543644414), (81, 'angle', 0.033836783678907946), (173, 'adv_vel_z', 0.03351163818850482)]\n",
      "56.15384615384615\n"
     ]
    },
    {
     "data": {
      "image/png": "[encoded data removed]",
      "text/plain": [
       "<Figure size 640x480 with 1 Axes>"
      ]
     },
     "metadata": {},
     "output_type": "display_data"
    }
   ],
   "source": [
    "importances = RF.feature_importances_\n",
    "std = np.std([tree.feature_importances_ for tree in RF.estimators_], axis=0)\n",
    "feature_names=x_test.columns.values.tolist()\n",
    "forest_importances = pd.Series(importances, index=feature_names)\n",
    "\n",
    "#print(np.sort(importances)[::-1])\n",
    "sorted_importances = np.argsort(importances)[::-1]\n",
    "sorted_tuple = [(i,feature_names[i],importances[i]) for i in sorted_importances]\n",
    "print(sorted_tuple[:10])\n",
    "print(len([x for x in sorted_tuple if x[2]==0])/len(sorted_tuple) * 100)\n",
    "\n",
    "\n",
    "\n",
    "forest_importances.to_csv(\"forest_importance.csv\")\n",
    "\n",
    "fig, ax = plt.subplots()\n",
    "forest_importances.plot.bar(yerr=std,ax=ax)\n",
    "ax.set_title(\"Feature importances using MDI\")\n",
    "ax.set_ylabel(\"Mean decrease in impurity\")\n",
    "fig.tight_layout()\n",
    "\n",
    "\n"
   ]
  }
 ],
 "metadata": {
  "kernelspec": {
   "display_name": "Python 3.7.0 ('carla_windows')",
   "language": "python",
   "name": "python3"
  },
  "language_info": {
   "codemirror_mode": {
    "name": "ipython",
    "version": 3
   },
   "file_extension": ".py",
   "mimetype": "text/x-python",
   "name": "python",
   "nbconvert_exporter": "python",
   "pygments_lexer": "ipython3",
   "version": "3.7.0"
  },
  "orig_nbformat": 4,
  "vscode": {
   "interpreter": {
    "hash": "6b78e235c59f528395fecac5cf104b5a1e9734d9cb9e1120f721887febdebcb5"
   }
  }
 },
 "nbformat": 4,
 "nbformat_minor": 2
}
