{
 "cells": [
  {
   "cell_type": "markdown",
   "metadata": {},
   "source": [
    "1) Read in all files\n",
    "2) See how many 0's, 1's\n",
    "3) Analyze file (see the average length) "
   ]
  },
  {
   "cell_type": "code",
   "execution_count": 124,
   "metadata": {},
   "outputs": [
    {
     "name": "stdout",
     "output_type": "stream",
     "text": [
      "Zeros: 81\n",
      "Ones: 82\n"
     ]
    }
   ],
   "source": [
    "import os\n",
    "\n",
    "replay_path = \"c:\\\\data\\\\label\\\\\"\n",
    "for dirName, subdirList, fileList in os.walk(replay_path):\n",
    "    zeros = [f for f in fileList if f.split(\".csv\")[0].split(\"_\",2)[2] == '0']\n",
    "    ones = [f for f in fileList if f.split(\".csv\")[0].split(\"_\",2)[2] == '1']\n",
    "print(f\"Zeros: {len(zeros)}\\nOnes: {len(ones)}\")\n",
    "    "
   ]
  },
  {
   "cell_type": "code",
   "execution_count": 125,
   "metadata": {},
   "outputs": [
    {
     "data": {
      "text/plain": [
       "count    163.000000\n",
       "mean     532.128834\n",
       "std      190.734809\n",
       "min      199.000000\n",
       "25%      352.500000\n",
       "50%      560.000000\n",
       "75%      676.000000\n",
       "max      999.000000\n",
       "dtype: float64"
      ]
     },
     "execution_count": 125,
     "metadata": {},
     "output_type": "execute_result"
    }
   ],
   "source": [
    "import pandas as pd\n",
    "\n",
    "all_files = zeros + ones\n",
    "file_lengths = []\n",
    "for f in all_files:\n",
    "    df = pd.read_csv(os.path.join(replay_path,f))\n",
    "    file_lengths.append(df.shape[0])\n",
    "pd.Series(file_lengths).describe()\n"
   ]
  },
  {
   "cell_type": "markdown",
   "metadata": {},
   "source": [
    "4) For each file, take 5 seconds before and 1 second after the event of interest (sampling every 0.5 seconds)"
   ]
  },
  {
   "cell_type": "code",
   "execution_count": 126,
   "metadata": {},
   "outputs": [
    {
     "name": "stdout",
     "output_type": "stream",
     "text": [
      "<class 'pandas.core.frame.DataFrame'>\n",
      "RangeIndex: 163 entries, 0 to 162\n",
      "Columns: 261 entries, hausdorff_distance to class\n",
      "dtypes: float64(260), object(1)\n",
      "memory usage: 332.5+ KB\n"
     ]
    }
   ],
   "source": [
    "sample_interval = 0.5\n",
    "seconds_before = 5\n",
    "seconds_after = 1\n",
    "\n",
    "all_seqs = []\n",
    "for file in all_files:\n",
    "    df = pd.read_csv(os.path.join(replay_path,file),index_col=0)\n",
    "    min_dist = df['hausdorff_distance'].min()\n",
    "    min_dist_idx = df['hausdorff_distance'].idxmin()\n",
    "    start_idx = min_dist_idx - seconds_before * (2*sample_interval/0.05)\n",
    "    stop_idx = min_dist_idx + seconds_after * (2*sample_interval/0.05)\n",
    "\n",
    "    indices_to_sample = []\n",
    "    for x in range(int(start_idx),int(stop_idx+1),int(sample_interval/0.05)): indices_to_sample.append(x)\n",
    "\n",
    "    columns_of_interest = ['hausdorff_distance','angle',\n",
    "        'ego_vel_x','ego_vel_y','ego_vel_z','ego_accel_x','ego_accel_y','ego_accel_z','ego_ang_vel_x','ego_ang_vel_y','ego_ang_vel_z',\n",
    "        'adv_vel_x','adv_vel_y','adv_vel_z','adv_accel_x','adv_accel_y','adv_accel_z','adv_ang_vel_x','adv_ang_vel_y','adv_ang_vel_z']\n",
    "    try:\n",
    "        rows_of_interest = df.loc[indices_to_sample,columns_of_interest]\n",
    "    except:\n",
    "        print(f\"bad keys in file {file}\")\n",
    "        print(indices_to_sample)\n",
    "        continue\n",
    "    one_seq = []\n",
    "    for index, rows in rows_of_interest.iterrows():\n",
    "        for elem in rows:\n",
    "            one_seq.append(elem)\n",
    "    one_seq.append(file.split(\".csv\")[0].split(\"_\",2)[2])\n",
    "    all_seqs.append(one_seq)\n",
    "\n",
    "full_df = pd.DataFrame(all_seqs, columns=(columns_of_interest * 13 + ['class']))\n",
    "full_df.to_csv(\"c:\\\\data\\\\labeled_data.csv\",index=None)\n",
    "full_df.info()"
   ]
  },
  {
   "cell_type": "markdown",
   "metadata": {},
   "source": [
    "5) Generate Train/Test Files"
   ]
  },
  {
   "cell_type": "code",
   "execution_count": 127,
   "metadata": {},
   "outputs": [],
   "source": [
    "from sklearn.model_selection import train_test_split\n",
    "x = full_df.iloc[:,:-1]\n",
    "y = full_df.iloc[:,-1]\n",
    "x_train, x_test, y_train, y_test = train_test_split(x,y,test_size=0.33)\n",
    "train = x_train.assign(Class=y_train)\n",
    "test = x_test.assign(Class=y_test)\n",
    "train.to_csv('c:\\\\data\\\\train_file.csv',index=None)\n",
    "test.to_csv('c:\\\\data\\\\test_file.csv',index=None)\n"
   ]
  },
  {
   "cell_type": "code",
   "execution_count": 128,
   "metadata": {},
   "outputs": [
    {
     "data": {
      "text/html": [
       "<div>\n",
       "<style scoped>\n",
       "    .dataframe tbody tr th:only-of-type {\n",
       "        vertical-align: middle;\n",
       "    }\n",
       "\n",
       "    .dataframe tbody tr th {\n",
       "        vertical-align: top;\n",
       "    }\n",
       "\n",
       "    .dataframe thead th {\n",
       "        text-align: right;\n",
       "    }\n",
       "</style>\n",
       "<table border=\"1\" class=\"dataframe\">\n",
       "  <thead>\n",
       "    <tr style=\"text-align: right;\">\n",
       "      <th></th>\n",
       "      <th>hausdorff_distance</th>\n",
       "      <th>angle</th>\n",
       "      <th>ego_vel_x</th>\n",
       "      <th>ego_vel_y</th>\n",
       "      <th>ego_vel_z</th>\n",
       "      <th>ego_accel_x</th>\n",
       "      <th>ego_accel_y</th>\n",
       "      <th>ego_accel_z</th>\n",
       "      <th>ego_ang_vel_x</th>\n",
       "      <th>ego_ang_vel_y</th>\n",
       "      <th>...</th>\n",
       "      <th>ego_ang_vel_z</th>\n",
       "      <th>adv_vel_x</th>\n",
       "      <th>adv_vel_y</th>\n",
       "      <th>adv_vel_z</th>\n",
       "      <th>adv_accel_x</th>\n",
       "      <th>adv_accel_y</th>\n",
       "      <th>adv_accel_z</th>\n",
       "      <th>adv_ang_vel_x</th>\n",
       "      <th>adv_ang_vel_y</th>\n",
       "      <th>adv_ang_vel_z</th>\n",
       "    </tr>\n",
       "  </thead>\n",
       "  <tbody>\n",
       "    <tr>\n",
       "      <th>69</th>\n",
       "      <td>4.804101</td>\n",
       "      <td>-12.881412</td>\n",
       "      <td>0.000000</td>\n",
       "      <td>0.000000</td>\n",
       "      <td>0.000000</td>\n",
       "      <td>-0.000379</td>\n",
       "      <td>0.000338</td>\n",
       "      <td>0.004396</td>\n",
       "      <td>0.000000</td>\n",
       "      <td>0.000000</td>\n",
       "      <td>...</td>\n",
       "      <td>-12.949948</td>\n",
       "      <td>-2.255785</td>\n",
       "      <td>-0.012032</td>\n",
       "      <td>0.033104</td>\n",
       "      <td>-0.034804</td>\n",
       "      <td>-0.029997</td>\n",
       "      <td>0.063688</td>\n",
       "      <td>-0.024455</td>\n",
       "      <td>1.007186</td>\n",
       "      <td>-0.483603</td>\n",
       "    </tr>\n",
       "    <tr>\n",
       "      <th>17</th>\n",
       "      <td>13.249923</td>\n",
       "      <td>62.585010</td>\n",
       "      <td>-2.308186</td>\n",
       "      <td>1.386937</td>\n",
       "      <td>0.001394</td>\n",
       "      <td>-1.270194</td>\n",
       "      <td>0.531402</td>\n",
       "      <td>0.019874</td>\n",
       "      <td>0.637522</td>\n",
       "      <td>-0.641907</td>\n",
       "      <td>...</td>\n",
       "      <td>-7.557425</td>\n",
       "      <td>0.079160</td>\n",
       "      <td>1.819304</td>\n",
       "      <td>0.004376</td>\n",
       "      <td>0.001116</td>\n",
       "      <td>-0.000415</td>\n",
       "      <td>-0.000051</td>\n",
       "      <td>0.000002</td>\n",
       "      <td>-0.001772</td>\n",
       "      <td>0.631114</td>\n",
       "    </tr>\n",
       "    <tr>\n",
       "      <th>131</th>\n",
       "      <td>20.180907</td>\n",
       "      <td>25.367182</td>\n",
       "      <td>0.017822</td>\n",
       "      <td>-2.725851</td>\n",
       "      <td>-0.014760</td>\n",
       "      <td>0.087332</td>\n",
       "      <td>1.670351</td>\n",
       "      <td>-0.024398</td>\n",
       "      <td>-0.602065</td>\n",
       "      <td>0.300137</td>\n",
       "      <td>...</td>\n",
       "      <td>2.524114</td>\n",
       "      <td>-0.570459</td>\n",
       "      <td>-0.102015</td>\n",
       "      <td>-0.004476</td>\n",
       "      <td>-1.870226</td>\n",
       "      <td>-2.904076</td>\n",
       "      <td>-0.134481</td>\n",
       "      <td>1.427664</td>\n",
       "      <td>-1.117837</td>\n",
       "      <td>13.360203</td>\n",
       "    </tr>\n",
       "    <tr>\n",
       "      <th>157</th>\n",
       "      <td>27.305255</td>\n",
       "      <td>-9.541705</td>\n",
       "      <td>0.594406</td>\n",
       "      <td>2.634125</td>\n",
       "      <td>0.011978</td>\n",
       "      <td>-0.205472</td>\n",
       "      <td>-1.087093</td>\n",
       "      <td>-0.023164</td>\n",
       "      <td>0.153793</td>\n",
       "      <td>-0.296720</td>\n",
       "      <td>...</td>\n",
       "      <td>-5.094246</td>\n",
       "      <td>0.090938</td>\n",
       "      <td>-0.538257</td>\n",
       "      <td>-0.006299</td>\n",
       "      <td>1.137899</td>\n",
       "      <td>0.872842</td>\n",
       "      <td>0.081033</td>\n",
       "      <td>0.003181</td>\n",
       "      <td>1.021081</td>\n",
       "      <td>6.790780</td>\n",
       "    </tr>\n",
       "    <tr>\n",
       "      <th>47</th>\n",
       "      <td>24.966700</td>\n",
       "      <td>26.746358</td>\n",
       "      <td>0.000038</td>\n",
       "      <td>0.000058</td>\n",
       "      <td>0.000041</td>\n",
       "      <td>-0.000108</td>\n",
       "      <td>-0.000215</td>\n",
       "      <td>0.018877</td>\n",
       "      <td>0.021906</td>\n",
       "      <td>-0.010041</td>\n",
       "      <td>...</td>\n",
       "      <td>-0.000037</td>\n",
       "      <td>-3.512770</td>\n",
       "      <td>1.941485</td>\n",
       "      <td>0.000338</td>\n",
       "      <td>1.667356</td>\n",
       "      <td>-0.921493</td>\n",
       "      <td>-0.008146</td>\n",
       "      <td>-0.115338</td>\n",
       "      <td>-0.180198</td>\n",
       "      <td>-0.001246</td>\n",
       "    </tr>\n",
       "  </tbody>\n",
       "</table>\n",
       "<p>5 rows × 260 columns</p>\n",
       "</div>"
      ],
      "text/plain": [
       "     hausdorff_distance      angle  ego_vel_x  ego_vel_y  ego_vel_z  \\\n",
       "69             4.804101 -12.881412   0.000000   0.000000   0.000000   \n",
       "17            13.249923  62.585010  -2.308186   1.386937   0.001394   \n",
       "131           20.180907  25.367182   0.017822  -2.725851  -0.014760   \n",
       "157           27.305255  -9.541705   0.594406   2.634125   0.011978   \n",
       "47            24.966700  26.746358   0.000038   0.000058   0.000041   \n",
       "\n",
       "     ego_accel_x  ego_accel_y  ego_accel_z  ego_ang_vel_x  ego_ang_vel_y  ...  \\\n",
       "69     -0.000379     0.000338     0.004396       0.000000       0.000000  ...   \n",
       "17     -1.270194     0.531402     0.019874       0.637522      -0.641907  ...   \n",
       "131     0.087332     1.670351    -0.024398      -0.602065       0.300137  ...   \n",
       "157    -0.205472    -1.087093    -0.023164       0.153793      -0.296720  ...   \n",
       "47     -0.000108    -0.000215     0.018877       0.021906      -0.010041  ...   \n",
       "\n",
       "     ego_ang_vel_z  adv_vel_x  adv_vel_y  adv_vel_z  adv_accel_x  adv_accel_y  \\\n",
       "69      -12.949948  -2.255785  -0.012032   0.033104    -0.034804    -0.029997   \n",
       "17       -7.557425   0.079160   1.819304   0.004376     0.001116    -0.000415   \n",
       "131       2.524114  -0.570459  -0.102015  -0.004476    -1.870226    -2.904076   \n",
       "157      -5.094246   0.090938  -0.538257  -0.006299     1.137899     0.872842   \n",
       "47       -0.000037  -3.512770   1.941485   0.000338     1.667356    -0.921493   \n",
       "\n",
       "     adv_accel_z  adv_ang_vel_x  adv_ang_vel_y  adv_ang_vel_z  \n",
       "69      0.063688      -0.024455       1.007186      -0.483603  \n",
       "17     -0.000051       0.000002      -0.001772       0.631114  \n",
       "131    -0.134481       1.427664      -1.117837      13.360203  \n",
       "157     0.081033       0.003181       1.021081       6.790780  \n",
       "47     -0.008146      -0.115338      -0.180198      -0.001246  \n",
       "\n",
       "[5 rows x 260 columns]"
      ]
     },
     "execution_count": 128,
     "metadata": {},
     "output_type": "execute_result"
    }
   ],
   "source": [
    "x_train.head()"
   ]
  },
  {
   "cell_type": "code",
   "execution_count": 129,
   "metadata": {},
   "outputs": [
    {
     "data": {
      "text/plain": [
       "0.9814814814814815"
      ]
     },
     "execution_count": 129,
     "metadata": {},
     "output_type": "execute_result"
    }
   ],
   "source": [
    "from sklearn.metrics import accuracy_score,r2_score,confusion_matrix\n",
    "from sklearn.ensemble import RandomForestClassifier\n",
    "import numpy as np\n",
    "from matplotlib import pyplot as plt\n",
    "%matplotlib inline\n",
    "\n",
    "RF = RandomForestClassifier()\n",
    "RF.fit(x_train,y_train)\n",
    "RF.score(x_test,y_test)"
   ]
  },
  {
   "cell_type": "code",
   "execution_count": 130,
   "metadata": {},
   "outputs": [
    {
     "name": "stdout",
     "output_type": "stream",
     "text": [
      "[(160, 'hausdorff_distance', 0.07464341669546254), (240, 'hausdorff_distance', 0.07355022516522744), (200, 'hausdorff_distance', 0.07306242841242165), (220, 'hausdorff_distance', 0.06335885008945948), (180, 'hausdorff_distance', 0.05028367058524046), (140, 'hausdorff_distance', 0.0440691128473076), (120, 'hausdorff_distance', 0.03127462726101232), (100, 'hausdorff_distance', 0.018411558802846527), (1, 'angle', 0.012491813254935218), (236, 'adv_accel_z', 0.011897600333751675), (81, 'angle', 0.011762607577193034), (80, 'hausdorff_distance', 0.011735061616063261), (60, 'hausdorff_distance', 0.010830555429396947), (246, 'ego_accel_y', 0.010334827761506127), (41, 'angle', 0.00916215563333974), (21, 'angle', 0.00878825126102936), (61, 'angle', 0.008706493591696706), (213, 'adv_vel_z', 0.008567587276599807), (133, 'adv_vel_z', 0.008496988583084026), (158, 'adv_ang_vel_y', 0.007479265843277676)]\n",
      "7.6923076923076925\n"
     ]
    },
    {
     "data": {
      "image/png": "[encoded data removed]",
      "text/plain": [
       "<Figure size 640x480 with 1 Axes>"
      ]
     },
     "metadata": {},
     "output_type": "display_data"
    }
   ],
   "source": [
    "importances = RF.feature_importances_\n",
    "std = np.std([tree.feature_importances_ for tree in RF.estimators_], axis=0)\n",
    "feature_names=x_test.columns.values.tolist()\n",
    "forest_importances = pd.Series(importances, index=feature_names)\n",
    "\n",
    "#print(np.sort(importances)[::-1])\n",
    "sorted_importances = np.argsort(importances)[::-1]\n",
    "sorted_tuple = [(i,feature_names[i],importances[i]) for i in sorted_importances]\n",
    "print(sorted_tuple[:20])\n",
    "print(len([x for x in sorted_tuple if x[2]==0])/len(sorted_tuple) * 100)\n",
    "\n",
    "\n",
    "\n",
    "forest_importances.to_csv(\"forest_importance.csv\")\n",
    "\n",
    "fig, ax = plt.subplots()\n",
    "forest_importances.plot.bar(yerr=std,ax=ax)\n",
    "ax.set_title(\"Feature importances using MDI\")\n",
    "ax.set_ylabel(\"Mean decrease in impurity\")\n",
    "fig.tight_layout()\n",
    "\n",
    "\n"
   ]
  }
 ],
 "metadata": {
  "kernelspec": {
   "display_name": "Python 3.7.0 ('carla_windows')",
   "language": "python",
   "name": "python3"
  },
  "language_info": {
   "codemirror_mode": {
    "name": "ipython",
    "version": 3
   },
   "file_extension": ".py",
   "mimetype": "text/x-python",
   "name": "python",
   "nbconvert_exporter": "python",
   "pygments_lexer": "ipython3",
   "version": "3.7.0"
  },
  "orig_nbformat": 4,
  "vscode": {
   "interpreter": {
    "hash": "6b78e235c59f528395fecac5cf104b5a1e9734d9cb9e1120f721887febdebcb5"
   }
  }
 },
 "nbformat": 4,
 "nbformat_minor": 2
}
