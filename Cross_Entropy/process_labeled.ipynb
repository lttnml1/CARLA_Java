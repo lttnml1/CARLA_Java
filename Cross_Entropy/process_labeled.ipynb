{
 "cells": [
  {
   "cell_type": "markdown",
   "metadata": {},
   "source": [
    "1) Read in all files\n",
    "2) See how many 0's, 1's\n",
    "3) Analyze file (see the average length) "
   ]
  },
  {
   "cell_type": "code",
   "execution_count": 10,
   "metadata": {},
   "outputs": [
    {
     "name": "stdout",
     "output_type": "stream",
     "text": [
      "Zeros: 25\n",
      "Ones: 25\n"
     ]
    }
   ],
   "source": [
    "import os\n",
    "\n",
    "replay_path = \"c:\\\\data\\\\label\\\\\"\n",
    "for dirName, subdirList, fileList in os.walk(replay_path):\n",
    "    zeros = [f for f in fileList if f.split(\".csv\")[0].split(\"_\",2)[2] == '0']\n",
    "    ones = [f for f in fileList if f.split(\".csv\")[0].split(\"_\",2)[2] == '1']\n",
    "print(f\"Zeros: {len(zeros)}\\nOnes: {len(ones)}\")\n",
    "    "
   ]
  },
  {
   "cell_type": "code",
   "execution_count": 22,
   "metadata": {},
   "outputs": [
    {
     "data": {
      "text/plain": [
       "count     50.00000\n",
       "mean     583.66000\n",
       "std      125.65463\n",
       "min      295.00000\n",
       "25%      530.50000\n",
       "50%      633.00000\n",
       "75%      658.00000\n",
       "max      776.00000\n",
       "dtype: float64"
      ]
     },
     "execution_count": 22,
     "metadata": {},
     "output_type": "execute_result"
    }
   ],
   "source": [
    "import pandas as pd\n",
    "\n",
    "all_files = zeros + ones\n",
    "file_lengths = []\n",
    "for f in all_files:\n",
    "    df = pd.read_csv(os.path.join(replay_path,f))\n",
    "    file_lengths.append(df.shape[0])\n",
    "pd.Series(file_lengths).describe()\n"
   ]
  },
  {
   "cell_type": "markdown",
   "metadata": {},
   "source": [
    "4) For each file, take 5 seconds before and 1 second after the event of interest (sampling every 0.5 seconds)"
   ]
  },
  {
   "cell_type": "code",
   "execution_count": 58,
   "metadata": {},
   "outputs": [],
   "source": [
    "from email import header\n",
    "\n",
    "\n",
    "sample_interval = 0.5\n",
    "seconds_before = 5\n",
    "seconds_after = 1\n",
    "\n",
    "all_seqs = []\n",
    "for file in all_files:\n",
    "    df = pd.read_csv(os.path.join(replay_path,file),index_col=0)\n",
    "    min_dist = df['hausdorff_distance'].min()\n",
    "    min_dist_idx = df['hausdorff_distance'].idxmin()\n",
    "    start_idx = min_dist_idx - seconds_before * (2*sample_interval/0.05)\n",
    "    stop_idx = min_dist_idx + seconds_after * (2*sample_interval/0.05)\n",
    "\n",
    "    indices_to_sample = []\n",
    "    for x in range(int(start_idx),int(stop_idx+1),int(sample_interval/0.05)): indices_to_sample.append(x)\n",
    "\n",
    "    columns_of_interest = ['hausdorff_distance','angle',\n",
    "        'ego_vel_x','ego_vel_y','ego_vel_z','ego_accel_x','ego_accel_y','ego_accel_z','ego_ang_vel_x','ego_ang_vel_y','ego_ang_vel_z',\n",
    "        'adv_vel_x','adv_vel_y','adv_vel_z','adv_accel_x','adv_accel_y','adv_accel_z','adv_ang_vel_x','adv_ang_vel_y','adv_ang_vel_z']\n",
    "    rows_of_interest = df.loc[indices_to_sample,columns_of_interest]\n",
    "    one_seq = []\n",
    "    for index, rows in rows_of_interest.iterrows():\n",
    "        for elem in rows:\n",
    "            one_seq.append(elem)\n",
    "    one_seq.append(file.split(\".csv\")[0].split(\"_\",2)[2])\n",
    "    all_seqs.append(one_seq)\n",
    "\n",
    "full_df = pd.DataFrame(all_seqs, columns=(columns_of_interest * 13 + ['class']))\n",
    "full_df.to_csv(\"c:\\\\data\\\\labeled_data.csv\",index=None)"
   ]
  },
  {
   "cell_type": "markdown",
   "metadata": {},
   "source": [
    "5) Generate Train/Test Files"
   ]
  },
  {
   "cell_type": "code",
   "execution_count": 62,
   "metadata": {},
   "outputs": [],
   "source": [
    "from sklearn.model_selection import train_test_split\n",
    "x = full_df.iloc[:,:-1]\n",
    "y = full_df.iloc[:,-1]\n",
    "x_train, x_test, y_train, y_test = train_test_split(x,y,test_size=0.33)\n",
    "train = x_train.assign(Class=y_train)\n",
    "test = x_test.assign(Class=y_test)\n",
    "train.to_csv('c:\\\\data\\\\train_file.csv',index=None)\n",
    "test.to_csv('c:\\\\data\\\\test_file.csv',index=None)"
   ]
  }
 ],
 "metadata": {
  "kernelspec": {
   "display_name": "Python 3.7.0 ('carla_windows')",
   "language": "python",
   "name": "python3"
  },
  "language_info": {
   "codemirror_mode": {
    "name": "ipython",
    "version": 3
   },
   "file_extension": ".py",
   "mimetype": "text/x-python",
   "name": "python",
   "nbconvert_exporter": "python",
   "pygments_lexer": "ipython3",
   "version": "3.7.0"
  },
  "orig_nbformat": 4,
  "vscode": {
   "interpreter": {
    "hash": "6b78e235c59f528395fecac5cf104b5a1e9734d9cb9e1120f721887febdebcb5"
   }
  }
 },
 "nbformat": 4,
 "nbformat_minor": 2
}
