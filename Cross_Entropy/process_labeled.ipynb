{
 "cells": [
  {
   "cell_type": "markdown",
   "metadata": {},
   "source": [
    "1) Read in all files\n",
    "2) See how many 0's, 1's\n",
    "3) Analyze file (see the average length) "
   ]
  },
  {
   "cell_type": "code",
   "execution_count": 18,
   "metadata": {},
   "outputs": [
    {
     "name": "stdout",
     "output_type": "stream",
     "text": [
      "Zeros: 25\n",
      "Ones: 25\n"
     ]
    }
   ],
   "source": [
    "import os\n",
    "\n",
    "replay_path = \"c:\\\\data\\\\label\\\\\"\n",
    "for dirName, subdirList, fileList in os.walk(replay_path):\n",
    "    zeros = [f for f in fileList if f.split(\".csv\")[0].split(\"_\",2)[2] == '0']\n",
    "    ones = [f for f in fileList if f.split(\".csv\")[0].split(\"_\",2)[2] == '1']\n",
    "print(f\"Zeros: {len(zeros)}\\nOnes: {len(ones)}\")\n",
    "    "
   ]
  },
  {
   "cell_type": "code",
   "execution_count": 19,
   "metadata": {},
   "outputs": [
    {
     "data": {
      "text/plain": [
       "count     50.00000\n",
       "mean     583.66000\n",
       "std      125.65463\n",
       "min      295.00000\n",
       "25%      530.50000\n",
       "50%      633.00000\n",
       "75%      658.00000\n",
       "max      776.00000\n",
       "dtype: float64"
      ]
     },
     "execution_count": 19,
     "metadata": {},
     "output_type": "execute_result"
    }
   ],
   "source": [
    "import pandas as pd\n",
    "\n",
    "all_files = zeros + ones\n",
    "file_lengths = []\n",
    "for f in all_files:\n",
    "    df = pd.read_csv(os.path.join(replay_path,f))\n",
    "    file_lengths.append(df.shape[0])\n",
    "pd.Series(file_lengths).describe()\n"
   ]
  },
  {
   "cell_type": "markdown",
   "metadata": {},
   "source": [
    "4) For each file, take 5 seconds before and 1 second after the event of interest (sampling every 0.5 seconds)"
   ]
  },
  {
   "cell_type": "code",
   "execution_count": 20,
   "metadata": {},
   "outputs": [
    {
     "name": "stdout",
     "output_type": "stream",
     "text": [
      "<class 'pandas.core.frame.DataFrame'>\n",
      "RangeIndex: 50 entries, 0 to 49\n",
      "Columns: 261 entries, hausdorff_distance to class\n",
      "dtypes: float64(260), object(1)\n",
      "memory usage: 102.1+ KB\n"
     ]
    }
   ],
   "source": [
    "sample_interval = 0.5\n",
    "seconds_before = 5\n",
    "seconds_after = 1\n",
    "\n",
    "all_seqs = []\n",
    "for file in all_files:\n",
    "    df = pd.read_csv(os.path.join(replay_path,file),index_col=0)\n",
    "    min_dist = df['hausdorff_distance'].min()\n",
    "    min_dist_idx = df['hausdorff_distance'].idxmin()\n",
    "    start_idx = min_dist_idx - seconds_before * (2*sample_interval/0.05)\n",
    "    stop_idx = min_dist_idx + seconds_after * (2*sample_interval/0.05)\n",
    "\n",
    "    indices_to_sample = []\n",
    "    for x in range(int(start_idx),int(stop_idx+1),int(sample_interval/0.05)): indices_to_sample.append(x)\n",
    "\n",
    "    columns_of_interest = ['hausdorff_distance','angle',\n",
    "        'ego_vel_x','ego_vel_y','ego_vel_z','ego_accel_x','ego_accel_y','ego_accel_z','ego_ang_vel_x','ego_ang_vel_y','ego_ang_vel_z',\n",
    "        'adv_vel_x','adv_vel_y','adv_vel_z','adv_accel_x','adv_accel_y','adv_accel_z','adv_ang_vel_x','adv_ang_vel_y','adv_ang_vel_z']\n",
    "    rows_of_interest = df.loc[indices_to_sample,columns_of_interest]\n",
    "    one_seq = []\n",
    "    for index, rows in rows_of_interest.iterrows():\n",
    "        for elem in rows:\n",
    "            one_seq.append(elem)\n",
    "    one_seq.append(file.split(\".csv\")[0].split(\"_\",2)[2])\n",
    "    all_seqs.append(one_seq)\n",
    "\n",
    "full_df = pd.DataFrame(all_seqs, columns=(columns_of_interest * 13 + ['class']))\n",
    "full_df.to_csv(\"c:\\\\data\\\\labeled_data.csv\",index=None)\n",
    "full_df.info()"
   ]
  },
  {
   "cell_type": "markdown",
   "metadata": {},
   "source": [
    "5) Generate Train/Test Files"
   ]
  },
  {
   "cell_type": "code",
   "execution_count": 25,
   "metadata": {},
   "outputs": [],
   "source": [
    "from sklearn.model_selection import train_test_split\n",
    "x = full_df.iloc[:,:-1]\n",
    "y = full_df.iloc[:,-1]\n",
    "x_train, x_test, y_train, y_test = train_test_split(x,y,test_size=0.33)\n",
    "train = x_train.assign(Class=y_train)\n",
    "test = x_test.assign(Class=y_test)\n",
    "train.to_csv('c:\\\\data\\\\train_file.csv',index=None)\n",
    "test.to_csv('c:\\\\data\\\\test_file.csv',index=None)\n"
   ]
  },
  {
   "cell_type": "code",
   "execution_count": 28,
   "metadata": {},
   "outputs": [
    {
     "data": {
      "text/html": [
       "<div>\n",
       "<style scoped>\n",
       "    .dataframe tbody tr th:only-of-type {\n",
       "        vertical-align: middle;\n",
       "    }\n",
       "\n",
       "    .dataframe tbody tr th {\n",
       "        vertical-align: top;\n",
       "    }\n",
       "\n",
       "    .dataframe thead th {\n",
       "        text-align: right;\n",
       "    }\n",
       "</style>\n",
       "<table border=\"1\" class=\"dataframe\">\n",
       "  <thead>\n",
       "    <tr style=\"text-align: right;\">\n",
       "      <th></th>\n",
       "      <th>hausdorff_distance</th>\n",
       "      <th>angle</th>\n",
       "      <th>ego_vel_x</th>\n",
       "      <th>ego_vel_y</th>\n",
       "      <th>ego_vel_z</th>\n",
       "      <th>ego_accel_x</th>\n",
       "      <th>ego_accel_y</th>\n",
       "      <th>ego_accel_z</th>\n",
       "      <th>ego_ang_vel_x</th>\n",
       "      <th>ego_ang_vel_y</th>\n",
       "      <th>...</th>\n",
       "      <th>ego_ang_vel_z</th>\n",
       "      <th>adv_vel_x</th>\n",
       "      <th>adv_vel_y</th>\n",
       "      <th>adv_vel_z</th>\n",
       "      <th>adv_accel_x</th>\n",
       "      <th>adv_accel_y</th>\n",
       "      <th>adv_accel_z</th>\n",
       "      <th>adv_ang_vel_x</th>\n",
       "      <th>adv_ang_vel_y</th>\n",
       "      <th>adv_ang_vel_z</th>\n",
       "    </tr>\n",
       "  </thead>\n",
       "  <tbody>\n",
       "    <tr>\n",
       "      <th>22</th>\n",
       "      <td>17.549877</td>\n",
       "      <td>4.169937</td>\n",
       "      <td>-2.580058</td>\n",
       "      <td>0.190064</td>\n",
       "      <td>-0.008083</td>\n",
       "      <td>1.171660</td>\n",
       "      <td>-0.134341</td>\n",
       "      <td>-0.025689</td>\n",
       "      <td>0.265427</td>\n",
       "      <td>0.207384</td>\n",
       "      <td>...</td>\n",
       "      <td>-0.000025</td>\n",
       "      <td>0.150665</td>\n",
       "      <td>3.458804</td>\n",
       "      <td>0.007397</td>\n",
       "      <td>-0.000012</td>\n",
       "      <td>-0.000134</td>\n",
       "      <td>0.000034</td>\n",
       "      <td>-0.000041</td>\n",
       "      <td>0.000005</td>\n",
       "      <td>0.000475</td>\n",
       "    </tr>\n",
       "    <tr>\n",
       "      <th>24</th>\n",
       "      <td>8.526672</td>\n",
       "      <td>22.055940</td>\n",
       "      <td>-2.226957</td>\n",
       "      <td>1.315113</td>\n",
       "      <td>0.005590</td>\n",
       "      <td>0.978084</td>\n",
       "      <td>-0.730054</td>\n",
       "      <td>0.007896</td>\n",
       "      <td>0.609201</td>\n",
       "      <td>0.348161</td>\n",
       "      <td>...</td>\n",
       "      <td>-0.000042</td>\n",
       "      <td>0.121638</td>\n",
       "      <td>2.793959</td>\n",
       "      <td>0.005972</td>\n",
       "      <td>0.000319</td>\n",
       "      <td>-0.000072</td>\n",
       "      <td>-0.000033</td>\n",
       "      <td>-0.000132</td>\n",
       "      <td>0.000337</td>\n",
       "      <td>-0.212651</td>\n",
       "    </tr>\n",
       "    <tr>\n",
       "      <th>40</th>\n",
       "      <td>27.283388</td>\n",
       "      <td>-3.346074</td>\n",
       "      <td>-2.699470</td>\n",
       "      <td>0.155313</td>\n",
       "      <td>-0.003444</td>\n",
       "      <td>1.203628</td>\n",
       "      <td>-0.128022</td>\n",
       "      <td>-0.058650</td>\n",
       "      <td>0.123642</td>\n",
       "      <td>0.648960</td>\n",
       "      <td>...</td>\n",
       "      <td>-9.711725</td>\n",
       "      <td>1.943199</td>\n",
       "      <td>0.033843</td>\n",
       "      <td>0.008394</td>\n",
       "      <td>3.530073</td>\n",
       "      <td>0.027712</td>\n",
       "      <td>-0.001379</td>\n",
       "      <td>-0.313744</td>\n",
       "      <td>0.545273</td>\n",
       "      <td>-3.095022</td>\n",
       "    </tr>\n",
       "    <tr>\n",
       "      <th>26</th>\n",
       "      <td>5.903178</td>\n",
       "      <td>-41.694407</td>\n",
       "      <td>-1.829691</td>\n",
       "      <td>1.896804</td>\n",
       "      <td>0.005960</td>\n",
       "      <td>0.263791</td>\n",
       "      <td>-1.113589</td>\n",
       "      <td>-0.028800</td>\n",
       "      <td>1.520289</td>\n",
       "      <td>-0.788821</td>\n",
       "      <td>...</td>\n",
       "      <td>-0.000206</td>\n",
       "      <td>0.111499</td>\n",
       "      <td>2.559974</td>\n",
       "      <td>0.005472</td>\n",
       "      <td>-0.000346</td>\n",
       "      <td>0.000029</td>\n",
       "      <td>-0.000034</td>\n",
       "      <td>0.000161</td>\n",
       "      <td>-0.000671</td>\n",
       "      <td>0.329844</td>\n",
       "    </tr>\n",
       "    <tr>\n",
       "      <th>18</th>\n",
       "      <td>14.589616</td>\n",
       "      <td>59.884899</td>\n",
       "      <td>-2.581676</td>\n",
       "      <td>1.090688</td>\n",
       "      <td>0.002064</td>\n",
       "      <td>-1.706939</td>\n",
       "      <td>0.694611</td>\n",
       "      <td>0.009445</td>\n",
       "      <td>-0.478458</td>\n",
       "      <td>-0.516140</td>\n",
       "      <td>...</td>\n",
       "      <td>-5.959656</td>\n",
       "      <td>0.075091</td>\n",
       "      <td>1.736641</td>\n",
       "      <td>0.004916</td>\n",
       "      <td>-0.002296</td>\n",
       "      <td>-0.003316</td>\n",
       "      <td>-0.001496</td>\n",
       "      <td>-0.058242</td>\n",
       "      <td>-0.076298</td>\n",
       "      <td>-0.663980</td>\n",
       "    </tr>\n",
       "  </tbody>\n",
       "</table>\n",
       "<p>5 rows × 260 columns</p>\n",
       "</div>"
      ],
      "text/plain": [
       "    hausdorff_distance      angle  ego_vel_x  ego_vel_y  ego_vel_z  \\\n",
       "22           17.549877   4.169937  -2.580058   0.190064  -0.008083   \n",
       "24            8.526672  22.055940  -2.226957   1.315113   0.005590   \n",
       "40           27.283388  -3.346074  -2.699470   0.155313  -0.003444   \n",
       "26            5.903178 -41.694407  -1.829691   1.896804   0.005960   \n",
       "18           14.589616  59.884899  -2.581676   1.090688   0.002064   \n",
       "\n",
       "    ego_accel_x  ego_accel_y  ego_accel_z  ego_ang_vel_x  ego_ang_vel_y  ...  \\\n",
       "22     1.171660    -0.134341    -0.025689       0.265427       0.207384  ...   \n",
       "24     0.978084    -0.730054     0.007896       0.609201       0.348161  ...   \n",
       "40     1.203628    -0.128022    -0.058650       0.123642       0.648960  ...   \n",
       "26     0.263791    -1.113589    -0.028800       1.520289      -0.788821  ...   \n",
       "18    -1.706939     0.694611     0.009445      -0.478458      -0.516140  ...   \n",
       "\n",
       "    ego_ang_vel_z  adv_vel_x  adv_vel_y  adv_vel_z  adv_accel_x  adv_accel_y  \\\n",
       "22      -0.000025   0.150665   3.458804   0.007397    -0.000012    -0.000134   \n",
       "24      -0.000042   0.121638   2.793959   0.005972     0.000319    -0.000072   \n",
       "40      -9.711725   1.943199   0.033843   0.008394     3.530073     0.027712   \n",
       "26      -0.000206   0.111499   2.559974   0.005472    -0.000346     0.000029   \n",
       "18      -5.959656   0.075091   1.736641   0.004916    -0.002296    -0.003316   \n",
       "\n",
       "    adv_accel_z  adv_ang_vel_x  adv_ang_vel_y  adv_ang_vel_z  \n",
       "22     0.000034      -0.000041       0.000005       0.000475  \n",
       "24    -0.000033      -0.000132       0.000337      -0.212651  \n",
       "40    -0.001379      -0.313744       0.545273      -3.095022  \n",
       "26    -0.000034       0.000161      -0.000671       0.329844  \n",
       "18    -0.001496      -0.058242      -0.076298      -0.663980  \n",
       "\n",
       "[5 rows x 260 columns]"
      ]
     },
     "execution_count": 28,
     "metadata": {},
     "output_type": "execute_result"
    }
   ],
   "source": [
    "x_train.head()"
   ]
  },
  {
   "cell_type": "code",
   "execution_count": 35,
   "metadata": {},
   "outputs": [
    {
     "data": {
      "text/plain": [
       "1.0"
      ]
     },
     "execution_count": 35,
     "metadata": {},
     "output_type": "execute_result"
    }
   ],
   "source": [
    "from sklearn.metrics import accuracy_score,r2_score,confusion_matrix\n",
    "from sklearn.ensemble import RandomForestClassifier\n",
    "import numpy as np\n",
    "from matplotlib import pyplot as plt\n",
    "%matplotlib inline\n",
    "\n",
    "RF = RandomForestClassifier()\n",
    "RF.fit(x_train,y_train)\n",
    "RF.score(x_test,y_test)"
   ]
  },
  {
   "cell_type": "code",
   "execution_count": 62,
   "metadata": {},
   "outputs": [
    {
     "name": "stdout",
     "output_type": "stream",
     "text": [
      "[(200, 'hausdorff_distance', 0.05252325864556349), (160, 'hausdorff_distance', 0.052157671037962795), (240, 'hausdorff_distance', 0.04639934027909806), (220, 'hausdorff_distance', 0.04611641903367682), (120, 'hausdorff_distance', 0.04562602339181287), (180, 'hausdorff_distance', 0.041787137571488), (80, 'hausdorff_distance', 0.0290145984224892), (241, 'angle', 0.02562027477195864), (0, 'hausdorff_distance', 0.02536379769299024), (101, 'angle', 0.025267006802721093), (124, 'ego_vel_z', 0.02338207181352643), (100, 'hausdorff_distance', 0.020163392857142855), (173, 'adv_vel_z', 0.019357017543859645), (40, 'hausdorff_distance', 0.019192403332520373), (60, 'hausdorff_distance', 0.01731203007518797), (141, 'angle', 0.01687781954887218), (213, 'adv_vel_z', 0.016204251595851486), (20, 'hausdorff_distance', 0.015878299689440992), (161, 'angle', 0.015579719939446367), (221, 'angle', 0.014579463364293086)]\n"
     ]
    },
    {
     "data": {
      "image/png": "[encoded data removed]",
      "text/plain": [
       "<Figure size 640x480 with 1 Axes>"
      ]
     },
     "metadata": {},
     "output_type": "display_data"
    }
   ],
   "source": [
    "importances = RF.feature_importances_\n",
    "std = np.std([tree.feature_importances_ for tree in RF.estimators_], axis=0)\n",
    "feature_names=x_test.columns.values.tolist()\n",
    "forest_importances = pd.Series(importances, index=feature_names)\n",
    "\n",
    "#print(np.sort(importances)[::-1])\n",
    "sorted_importances = np.argsort(importances)[::-1][:20]\n",
    "print([(i,feature_names[i],importances[i]) for i in sorted_importances])\n",
    "\n",
    "\n",
    "forest_importances.to_csv(\"forest_importance.csv\")\n",
    "\n",
    "fig, ax = plt.subplots()\n",
    "forest_importances.plot.bar(yerr=std,ax=ax)\n",
    "ax.set_title(\"Feature importances using MDI\")\n",
    "ax.set_ylabel(\"Mean decrease in impurity\")\n",
    "fig.tight_layout()\n",
    "\n",
    "\n"
   ]
  }
 ],
 "metadata": {
  "kernelspec": {
   "display_name": "Python 3.7.0 ('carla_windows')",
   "language": "python",
   "name": "python3"
  },
  "language_info": {
   "codemirror_mode": {
    "name": "ipython",
    "version": 3
   },
   "file_extension": ".py",
   "mimetype": "text/x-python",
   "name": "python",
   "nbconvert_exporter": "python",
   "pygments_lexer": "ipython3",
   "version": "3.7.0"
  },
  "orig_nbformat": 4,
  "vscode": {
   "interpreter": {
    "hash": "6b78e235c59f528395fecac5cf104b5a1e9734d9cb9e1120f721887febdebcb5"
   }
  }
 },
 "nbformat": 4,
 "nbformat_minor": 2
}
